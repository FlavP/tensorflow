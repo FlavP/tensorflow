{
 "cells": [
  {
   "cell_type": "markdown",
   "metadata": {},
   "source": [
    "# Crash Course Review Exercises "
   ]
  },
  {
   "cell_type": "markdown",
   "metadata": {},
   "source": [
    "** Import numpy,pandas,matplotlib,and sklearn. Also set visualizations to be shown inline in the notebook.**"
   ]
  },
  {
   "cell_type": "code",
   "execution_count": 1,
   "metadata": {
    "collapsed": true
   },
   "outputs": [],
   "source": [
    "import numpy as np\n",
    "import pandas as pd\n",
    "import sklearn\n",
    "import matplotlib.pyplot as plt\n",
    "%matplotlib inline"
   ]
  },
  {
   "cell_type": "markdown",
   "metadata": {},
   "source": [
    "** Set Numpy's Random Seed to 101 **"
   ]
  },
  {
   "cell_type": "code",
   "execution_count": 3,
   "metadata": {
    "collapsed": false
   },
   "outputs": [],
   "source": [
    "np.random.seed(101)"
   ]
  },
  {
   "cell_type": "code",
   "execution_count": 5,
   "metadata": {
    "collapsed": true
   },
   "outputs": [],
   "source": [
    "mydata = np.random.randint(0, 101, (100, 5))"
   ]
  },
  {
   "cell_type": "markdown",
   "metadata": {},
   "source": [
    "** Create a NumPy Matrix of 100 rows by 5 columns consisting of random integers from 1-100. (Keep in mind that the upper limit may be exclusive.**"
   ]
  },
  {
   "cell_type": "code",
   "execution_count": 6,
   "metadata": {
    "collapsed": false
   },
   "outputs": [
    {
     "data": {
      "text/plain": [
       "array([[ 11,  86,  15,  95,  91],\n",
       "       [ 19,  69,   1,  77,  63],\n",
       "       [ 87,  28,  70,   5,   3],\n",
       "       [ 12,  62,  26,  96,  61],\n",
       "       [ 87,  74,  99,  97,  64],\n",
       "       [ 95,   3,  88,  59,  38],\n",
       "       [ 29,  31,  88,  57,   9],\n",
       "       [ 62,  31,  13,  35,  47],\n",
       "       [  2,  17,  50,  22,  30],\n",
       "       [ 36,  22,  97,  51,  38],\n",
       "       [ 28,   4,   0,  12,  90],\n",
       "       [  2,   7,  44,  54,  49],\n",
       "       [ 76,  98,   3,  32,  91],\n",
       "       [ 43,   7,  42,  66,   9],\n",
       "       [  5,  26,  66,  22,  47],\n",
       "       [ 27,  46,  14,  52,  74],\n",
       "       [ 54,   3,  94,  36,  63],\n",
       "       [ 41,  18,  37,  45,  82],\n",
       "       [ 47,  66,  97,  20,   9],\n",
       "       [ 87,  40,  13,  95,  16],\n",
       "       [ 38,  87,  72,  60,  78],\n",
       "       [ 53,  48,  83,  90,  41],\n",
       "       [ 84,  78,  55,  70,  93],\n",
       "       [ 57,  86,  67,   8,  47],\n",
       "       [ 70,  39,  53,   5,  40],\n",
       "       [ 88,  58,  12,  70,   5],\n",
       "       [ 82,   8,  60,  58,  45],\n",
       "       [ 92,  85,  44,  62,  39],\n",
       "       [ 38,  54,  98,  80,  93],\n",
       "       [ 16,  37,  58,  40,  72],\n",
       "       [ 72,  22,  42,  38,  45],\n",
       "       [ 16,  52,  17,  22,  15],\n",
       "       [ 18,  37,  48,   2,   2],\n",
       "       [ 31,  50,  78,  70,  40],\n",
       "       [ 60,  62,  69,  34,  95],\n",
       "       [ 58,   4,  70,  20,  18],\n",
       "       [ 66,  23,  87,  45,  64],\n",
       "       [  6,  39,  29,  60,  33],\n",
       "       [ 18,  59,  64,  59,  65],\n",
       "       [ 10,  86,  66,  38,  76],\n",
       "       [ 97,  79,   7,  65,  50],\n",
       "       [ 53,   4,  39,   1,   5],\n",
       "       [ 67,  92,  50,  59,   2],\n",
       "       [ 91,  14,  12,  68,  87],\n",
       "       [ 13,  18, 100,   4,  89],\n",
       "       [ 22,  40,   7,   2,  83],\n",
       "       [ 19,  68,  89,  16,   1],\n",
       "       [  2,  73,  65,  24,  84],\n",
       "       [ 17,  21,  97,  44,  36],\n",
       "       [ 38,  93,  32,   5,  76],\n",
       "       [ 19,  33,  76,  41,  21],\n",
       "       [ 20,  54,  77,  62,  99],\n",
       "       [  4,  52,  83,  55,  11],\n",
       "       [ 46,  39,  92,  34,  54],\n",
       "       [ 49,  11,  62,  11,  83],\n",
       "       [ 25,  32,  40,  27,  30],\n",
       "       [ 92,  59,  86,  74,  17],\n",
       "       [ 69,  85,   4,   5,  49],\n",
       "       [ 29,  41,  38,  22,  45],\n",
       "       [ 10,  65,  77,  72,  90],\n",
       "       [ 80,  64,  81,  20,   2],\n",
       "       [ 20,  53,  38,  94,  49],\n",
       "       [ 26,  88,  21,  38,  52],\n",
       "       [ 74,  96,  19,  77,   5],\n",
       "       [ 70,  27,  92,   6,  97],\n",
       "       [ 71,  23,  90,  78,  85],\n",
       "       [ 61,  79,  54,  56,  64],\n",
       "       [ 41,  61,  56,   2,  86],\n",
       "       [ 19,  77,   5,  44,  15],\n",
       "       [ 75,  70, 100,  12,  13],\n",
       "       [ 93,  21,  46,  28,  20],\n",
       "       [ 70,  14,  56,  19,  79],\n",
       "       [ 59,  33,  33,  11,  44],\n",
       "       [ 43,  93,   3,  39,  77],\n",
       "       [  3,  58,  51,  32,  46],\n",
       "       [  8,   9,  13,  63,  59],\n",
       "       [ 79,   5,  33,  47,  29],\n",
       "       [ 79,  62,  25, 100,  43],\n",
       "       [ 46,  94,  68,  55,  69],\n",
       "       [ 41,  41,  14,  47,   3],\n",
       "       [ 64,  23,  80,  42,  84],\n",
       "       [ 88,  89,  10,  78,  97],\n",
       "       [ 65,   8,  14,  28,  80],\n",
       "       [ 17,  62,  27,  33,  14],\n",
       "       [ 21,  25,  96, 100,  64],\n",
       "       [ 84,   6,  76,  95,  43],\n",
       "       [ 94,  40,  68,  45,  24],\n",
       "       [ 50,  36,  62,  52,   9],\n",
       "       [ 79,  74,  30,  70,  90],\n",
       "       [ 58,  97,  57,  60,  64],\n",
       "       [ 86,  93,  31,  22,  90],\n",
       "       [  3,  52,   9,  93,  60],\n",
       "       [ 42,   1,  15,  38,  65],\n",
       "       [ 10,  86,  63,  98,  11],\n",
       "       [ 96,  67,  95,  94,  80],\n",
       "       [ 16,  30,  89,  62,  62],\n",
       "       [ 42,  10,  48,  86,  33],\n",
       "       [ 52,  24,  94,  78,  71],\n",
       "       [ 19,  75,  81,  71,  23],\n",
       "       [ 93,  58,  48,  76,  63]])"
      ]
     },
     "execution_count": 6,
     "metadata": {},
     "output_type": "execute_result"
    }
   ],
   "source": [
    "mydata"
   ]
  },
  {
   "cell_type": "code",
   "execution_count": 11,
   "metadata": {
    "collapsed": false
   },
   "outputs": [
    {
     "data": {
      "text/plain": [
       "<matplotlib.colorbar.Colorbar at 0x7f641a9e1b70>"
      ]
     },
     "execution_count": 11,
     "metadata": {},
     "output_type": "execute_result"
    },
    {
     "data": {
      "image/png": "[encoded data removed]",
      "text/plain": [
       "<matplotlib.figure.Figure at 0x7f641aacc2e8>"
      ]
     },
     "metadata": {},
     "output_type": "display_data"
    }
   ],
   "source": [
    "plt.imshow(mydata, aspect='auto')\n",
    "plt.colorbar()"
   ]
  },
  {
   "cell_type": "code",
   "execution_count": null,
   "metadata": {
    "collapsed": true
   },
   "outputs": [],
   "source": []
  },
  {
   "cell_type": "markdown",
   "metadata": {},
   "source": [
    "** Create a 2-D visualization using plt.imshow of the numpy matrix with a colorbar. Add a title to your plot. Bonus: Figure out how to change the [*aspect*](https://stackoverflow.com/questions/10540929/figure-of-imshow-is-too-small) of the imshow() plot. **"
   ]
  },
  {
   "cell_type": "code",
   "execution_count": 26,
   "metadata": {
    "collapsed": false
   },
   "outputs": [
    {
     "data": {
      "text/plain": [
       "<matplotlib.text.Text at 0x1ee3fd100f0>"
      ]
     },
     "execution_count": 26,
     "metadata": {},
     "output_type": "execute_result"
    },
    {
     "data": {
      "image/png": "[encoded data removed]",
      "text/plain": [
       "<matplotlib.figure.Figure at 0x1ee3fc5d048>"
      ]
     },
     "metadata": {},
     "output_type": "display_data"
    }
   ],
   "source": []
  },
  {
   "cell_type": "markdown",
   "metadata": {},
   "source": [
    "** Now use pd.DataFrame() to read in this numpy array as a dataframe. Simple pass in the numpy array into that function to get back a dataframe. Pandas will auto label the columns to 0-4**"
   ]
  },
  {
   "cell_type": "code",
   "execution_count": 13,
   "metadata": {
    "collapsed": true
   },
   "outputs": [],
   "source": [
    "df = pd.DataFrame(mydata)"
   ]
  },
  {
   "cell_type": "code",
   "execution_count": null,
   "metadata": {
    "collapsed": false
   },
   "outputs": [],
   "source": []
  },
  {
   "cell_type": "code",
   "execution_count": 34,
   "metadata": {
    "collapsed": false
   },
   "outputs": [
    {
     "data": {
      "text/plain": [
       "<matplotlib.collections.PathCollection at 0x7f641a4a8c18>"
      ]
     },
     "execution_count": 34,
     "metadata": {},
     "output_type": "execute_result"
    },
    {
     "data": {
      "image/png": "[encoded data removed]",
      "text/plain": [
       "<matplotlib.figure.Figure at 0x7f641a4dedd8>"
      ]
     },
     "metadata": {},
     "output_type": "display_data"
    }
   ],
   "source": [
    "plt.scatter(x=df[0], y=df[1])"
   ]
  },
  {
   "cell_type": "code",
   "execution_count": null,
   "metadata": {
    "collapsed": true
   },
   "outputs": [],
   "source": []
  },
  {
   "cell_type": "markdown",
   "metadata": {},
   "source": [
    "** Now create a scatter plot using pandas of the 0 column vs the 1 column. **"
   ]
  },
  {
   "cell_type": "code",
   "execution_count": 29,
   "metadata": {
    "collapsed": false
   },
   "outputs": [
    {
     "data": {
      "text/plain": [
       "<matplotlib.axes._subplots.AxesSubplot at 0x1ee3fc5d080>"
      ]
     },
     "execution_count": 29,
     "metadata": {},
     "output_type": "execute_result"
    },
    {
     "data": {
      "image/png": "[encoded data removed]",
      "text/plain": [
       "<matplotlib.figure.Figure at 0x1ee3fc65ef0>"
      ]
     },
     "metadata": {},
     "output_type": "display_data"
    }
   ],
   "source": []
  },
  {
   "cell_type": "markdown",
   "metadata": {},
   "source": [
    "** Now scale the data to have a minimum of 0 and a maximum value of 1 using scikit-learn. **"
   ]
  },
  {
   "cell_type": "code",
   "execution_count": 40,
   "metadata": {
    "collapsed": true
   },
   "outputs": [],
   "source": [
    "from sklearn.preprocessing import MinMaxScaler"
   ]
  },
  {
   "cell_type": "code",
   "execution_count": 41,
   "metadata": {
    "collapsed": true
   },
   "outputs": [],
   "source": [
    "scaler = MinMaxScaler()"
   ]
  },
  {
   "cell_type": "code",
   "execution_count": 42,
   "metadata": {
    "collapsed": true
   },
   "outputs": [],
   "source": [
    "scaled_df = scaler.fit_transform(df)"
   ]
  },
  {
   "cell_type": "code",
   "execution_count": 43,
   "metadata": {
    "collapsed": false
   },
   "outputs": [
    {
     "data": {
      "text/plain": [
       "array([[ 0.09473684,  0.87628866,  0.15      ,  0.94949495,  0.91836735],\n",
       "       [ 0.17894737,  0.70103093,  0.01      ,  0.76767677,  0.63265306],\n",
       "       [ 0.89473684,  0.27835052,  0.7       ,  0.04040404,  0.02040816],\n",
       "       [ 0.10526316,  0.62886598,  0.26      ,  0.95959596,  0.6122449 ],\n",
       "       [ 0.89473684,  0.75257732,  0.99      ,  0.96969697,  0.64285714],\n",
       "       [ 0.97894737,  0.02061856,  0.88      ,  0.58585859,  0.37755102],\n",
       "       [ 0.28421053,  0.30927835,  0.88      ,  0.56565657,  0.08163265],\n",
       "       [ 0.63157895,  0.30927835,  0.13      ,  0.34343434,  0.46938776],\n",
       "       [ 0.        ,  0.16494845,  0.5       ,  0.21212121,  0.29591837],\n",
       "       [ 0.35789474,  0.21649485,  0.97      ,  0.50505051,  0.37755102],\n",
       "       [ 0.27368421,  0.03092784,  0.        ,  0.11111111,  0.90816327],\n",
       "       [ 0.        ,  0.06185567,  0.44      ,  0.53535354,  0.48979592],\n",
       "       [ 0.77894737,  1.        ,  0.03      ,  0.31313131,  0.91836735],\n",
       "       [ 0.43157895,  0.06185567,  0.42      ,  0.65656566,  0.08163265],\n",
       "       [ 0.03157895,  0.25773196,  0.66      ,  0.21212121,  0.46938776],\n",
       "       [ 0.26315789,  0.46391753,  0.14      ,  0.51515152,  0.74489796],\n",
       "       [ 0.54736842,  0.02061856,  0.94      ,  0.35353535,  0.63265306],\n",
       "       [ 0.41052632,  0.17525773,  0.37      ,  0.44444444,  0.82653061],\n",
       "       [ 0.47368421,  0.67010309,  0.97      ,  0.19191919,  0.08163265],\n",
       "       [ 0.89473684,  0.40206186,  0.13      ,  0.94949495,  0.15306122],\n",
       "       [ 0.37894737,  0.88659794,  0.72      ,  0.5959596 ,  0.78571429],\n",
       "       [ 0.53684211,  0.48453608,  0.83      ,  0.8989899 ,  0.40816327],\n",
       "       [ 0.86315789,  0.79381443,  0.55      ,  0.6969697 ,  0.93877551],\n",
       "       [ 0.57894737,  0.87628866,  0.67      ,  0.07070707,  0.46938776],\n",
       "       [ 0.71578947,  0.39175258,  0.53      ,  0.04040404,  0.39795918],\n",
       "       [ 0.90526316,  0.58762887,  0.12      ,  0.6969697 ,  0.04081633],\n",
       "       [ 0.84210526,  0.07216495,  0.6       ,  0.57575758,  0.44897959],\n",
       "       [ 0.94736842,  0.86597938,  0.44      ,  0.61616162,  0.3877551 ],\n",
       "       [ 0.37894737,  0.54639175,  0.98      ,  0.7979798 ,  0.93877551],\n",
       "       [ 0.14736842,  0.37113402,  0.58      ,  0.39393939,  0.7244898 ],\n",
       "       [ 0.73684211,  0.21649485,  0.42      ,  0.37373737,  0.44897959],\n",
       "       [ 0.14736842,  0.5257732 ,  0.17      ,  0.21212121,  0.14285714],\n",
       "       [ 0.16842105,  0.37113402,  0.48      ,  0.01010101,  0.01020408],\n",
       "       [ 0.30526316,  0.50515464,  0.78      ,  0.6969697 ,  0.39795918],\n",
       "       [ 0.61052632,  0.62886598,  0.69      ,  0.33333333,  0.95918367],\n",
       "       [ 0.58947368,  0.03092784,  0.7       ,  0.19191919,  0.17346939],\n",
       "       [ 0.67368421,  0.22680412,  0.87      ,  0.44444444,  0.64285714],\n",
       "       [ 0.04210526,  0.39175258,  0.29      ,  0.5959596 ,  0.32653061],\n",
       "       [ 0.16842105,  0.59793814,  0.64      ,  0.58585859,  0.65306122],\n",
       "       [ 0.08421053,  0.87628866,  0.66      ,  0.37373737,  0.76530612],\n",
       "       [ 1.        ,  0.80412371,  0.07      ,  0.64646465,  0.5       ],\n",
       "       [ 0.53684211,  0.03092784,  0.39      ,  0.        ,  0.04081633],\n",
       "       [ 0.68421053,  0.93814433,  0.5       ,  0.58585859,  0.01020408],\n",
       "       [ 0.93684211,  0.13402062,  0.12      ,  0.67676768,  0.87755102],\n",
       "       [ 0.11578947,  0.17525773,  1.        ,  0.03030303,  0.89795918],\n",
       "       [ 0.21052632,  0.40206186,  0.07      ,  0.01010101,  0.83673469],\n",
       "       [ 0.17894737,  0.69072165,  0.89      ,  0.15151515,  0.        ],\n",
       "       [ 0.        ,  0.74226804,  0.65      ,  0.23232323,  0.84693878],\n",
       "       [ 0.15789474,  0.20618557,  0.97      ,  0.43434343,  0.35714286],\n",
       "       [ 0.37894737,  0.94845361,  0.32      ,  0.04040404,  0.76530612],\n",
       "       [ 0.17894737,  0.32989691,  0.76      ,  0.4040404 ,  0.20408163],\n",
       "       [ 0.18947368,  0.54639175,  0.77      ,  0.61616162,  1.        ],\n",
       "       [ 0.02105263,  0.5257732 ,  0.83      ,  0.54545455,  0.10204082],\n",
       "       [ 0.46315789,  0.39175258,  0.92      ,  0.33333333,  0.54081633],\n",
       "       [ 0.49473684,  0.10309278,  0.62      ,  0.1010101 ,  0.83673469],\n",
       "       [ 0.24210526,  0.31958763,  0.4       ,  0.26262626,  0.29591837],\n",
       "       [ 0.94736842,  0.59793814,  0.86      ,  0.73737374,  0.16326531],\n",
       "       [ 0.70526316,  0.86597938,  0.04      ,  0.04040404,  0.48979592],\n",
       "       [ 0.28421053,  0.41237113,  0.38      ,  0.21212121,  0.44897959],\n",
       "       [ 0.08421053,  0.65979381,  0.77      ,  0.71717172,  0.90816327],\n",
       "       [ 0.82105263,  0.64948454,  0.81      ,  0.19191919,  0.01020408],\n",
       "       [ 0.18947368,  0.53608247,  0.38      ,  0.93939394,  0.48979592],\n",
       "       [ 0.25263158,  0.89690722,  0.21      ,  0.37373737,  0.52040816],\n",
       "       [ 0.75789474,  0.97938144,  0.19      ,  0.76767677,  0.04081633],\n",
       "       [ 0.71578947,  0.26804124,  0.92      ,  0.05050505,  0.97959184],\n",
       "       [ 0.72631579,  0.22680412,  0.9       ,  0.77777778,  0.85714286],\n",
       "       [ 0.62105263,  0.80412371,  0.54      ,  0.55555556,  0.64285714],\n",
       "       [ 0.41052632,  0.6185567 ,  0.56      ,  0.01010101,  0.86734694],\n",
       "       [ 0.17894737,  0.78350515,  0.05      ,  0.43434343,  0.14285714],\n",
       "       [ 0.76842105,  0.71134021,  1.        ,  0.11111111,  0.12244898],\n",
       "       [ 0.95789474,  0.20618557,  0.46      ,  0.27272727,  0.19387755],\n",
       "       [ 0.71578947,  0.13402062,  0.56      ,  0.18181818,  0.79591837],\n",
       "       [ 0.6       ,  0.32989691,  0.33      ,  0.1010101 ,  0.43877551],\n",
       "       [ 0.43157895,  0.94845361,  0.03      ,  0.38383838,  0.7755102 ],\n",
       "       [ 0.01052632,  0.58762887,  0.51      ,  0.31313131,  0.45918367],\n",
       "       [ 0.06315789,  0.08247423,  0.13      ,  0.62626263,  0.59183673],\n",
       "       [ 0.81052632,  0.04123711,  0.33      ,  0.46464646,  0.28571429],\n",
       "       [ 0.81052632,  0.62886598,  0.25      ,  1.        ,  0.42857143],\n",
       "       [ 0.46315789,  0.95876289,  0.68      ,  0.54545455,  0.69387755],\n",
       "       [ 0.41052632,  0.41237113,  0.14      ,  0.46464646,  0.02040816],\n",
       "       [ 0.65263158,  0.22680412,  0.8       ,  0.41414141,  0.84693878],\n",
       "       [ 0.90526316,  0.90721649,  0.1       ,  0.77777778,  0.97959184],\n",
       "       [ 0.66315789,  0.07216495,  0.14      ,  0.27272727,  0.80612245],\n",
       "       [ 0.15789474,  0.62886598,  0.27      ,  0.32323232,  0.13265306],\n",
       "       [ 0.2       ,  0.24742268,  0.96      ,  1.        ,  0.64285714],\n",
       "       [ 0.86315789,  0.05154639,  0.76      ,  0.94949495,  0.42857143],\n",
       "       [ 0.96842105,  0.40206186,  0.68      ,  0.44444444,  0.23469388],\n",
       "       [ 0.50526316,  0.36082474,  0.62      ,  0.51515152,  0.08163265],\n",
       "       [ 0.81052632,  0.75257732,  0.3       ,  0.6969697 ,  0.90816327],\n",
       "       [ 0.58947368,  0.98969072,  0.57      ,  0.5959596 ,  0.64285714],\n",
       "       [ 0.88421053,  0.94845361,  0.31      ,  0.21212121,  0.90816327],\n",
       "       [ 0.01052632,  0.5257732 ,  0.09      ,  0.92929293,  0.60204082],\n",
       "       [ 0.42105263,  0.        ,  0.15      ,  0.37373737,  0.65306122],\n",
       "       [ 0.08421053,  0.87628866,  0.63      ,  0.97979798,  0.10204082],\n",
       "       [ 0.98947368,  0.68041237,  0.95      ,  0.93939394,  0.80612245],\n",
       "       [ 0.14736842,  0.29896907,  0.89      ,  0.61616162,  0.62244898],\n",
       "       [ 0.42105263,  0.09278351,  0.48      ,  0.85858586,  0.32653061],\n",
       "       [ 0.52631579,  0.2371134 ,  0.94      ,  0.77777778,  0.71428571],\n",
       "       [ 0.17894737,  0.7628866 ,  0.81      ,  0.70707071,  0.2244898 ],\n",
       "       [ 0.95789474,  0.58762887,  0.48      ,  0.75757576,  0.63265306]])"
      ]
     },
     "execution_count": 43,
     "metadata": {},
     "output_type": "execute_result"
    }
   ],
   "source": [
    "scaled_df"
   ]
  },
  {
   "cell_type": "code",
   "execution_count": 34,
   "metadata": {
    "collapsed": false
   },
   "outputs": [
    {
     "data": {
      "text/plain": [
       "array([[ 0.95876289,  0.10416667,  0.82105263,  0.72164948,  0.63265306],\n",
       "       [ 0.87628866,  0.77083333,  0.06315789,  0.79381443,  0.39795918],\n",
       "       [ 0.02061856,  0.64583333,  0.38947368,  0.6185567 ,  0.92857143],\n",
       "       [ 0.63917526,  0.04166667,  0.09473684,  0.95876289,  0.39795918],\n",
       "       [ 0.48453608,  0.85416667,  0.05263158,  0.29896907,  0.59183673],\n",
       "       [ 0.32989691,  0.44791667,  0.72631579,  0.19587629,  0.09183673],\n",
       "       [ 0.7628866 ,  0.97916667,  0.88421053,  0.        ,  0.73469388],\n",
       "       [ 0.06185567,  0.63541667,  0.34736842,  0.8556701 ,  1.        ],\n",
       "       [ 0.26804124,  0.64583333,  0.04210526,  0.10309278,  0.52040816],\n",
       "       [ 0.55670103,  0.38541667,  0.73684211,  0.53608247,  0.17346939],\n",
       "       [ 0.71134021,  0.14583333,  0.43157895,  0.        ,  0.1122449 ],\n",
       "       [ 0.15463918,  0.77083333,  0.8       ,  1.        ,  0.93877551],\n",
       "       [ 0.22680412,  0.36458333,  0.63157895,  0.19587629,  0.34693878],\n",
       "       [ 0.28865979,  0.09375   ,  0.6       ,  0.20618557,  0.26530612],\n",
       "       [ 0.06185567,  0.88541667,  0.24210526,  0.89690722,  0.45918367],\n",
       "       [ 0.46391753,  0.55208333,  0.87368421,  0.09278351,  0.44897959],\n",
       "       [ 0.        ,  0.17708333,  0.57894737,  0.94845361,  0.10204082],\n",
       "       [ 0.08247423,  0.96875   ,  0.33684211,  0.28865979,  0.02040816],\n",
       "       [ 0.83505155,  0.86458333,  0.46315789,  0.1443299 ,  0.69387755],\n",
       "       [ 0.59793814,  0.70833333,  0.50526316,  0.06185567,  0.8877551 ],\n",
       "       [ 0.71134021,  0.69791667,  0.21052632,  0.36082474,  0.79591837],\n",
       "       [ 0.98969072,  0.6875    ,  0.83157895,  0.58762887,  0.7755102 ],\n",
       "       [ 0.45360825,  0.02083333,  0.45263158,  0.29896907,  0.86734694],\n",
       "       [ 0.19587629,  0.20833333,  0.82105263,  0.2371134 ,  0.94897959],\n",
       "       [ 0.71134021,  0.19791667,  0.25263158,  0.77319588,  0.04081633],\n",
       "       [ 0.48453608,  0.88541667,  0.90526316,  0.64948454,  0.82653061],\n",
       "       [ 0.77319588,  0.02083333,  0.55789474,  0.1443299 ,  0.48979592],\n",
       "       [ 0.87628866,  0.53125   ,  0.10526316,  0.48453608,  0.48979592],\n",
       "       [ 0.22680412,  0.19791667,  0.64210526,  0.53608247,  0.60204082],\n",
       "       [ 0.46391753,  0.29166667,  0.6       ,  0.54639175,  0.10204082],\n",
       "       [ 0.39175258,  0.9375    ,  0.44210526,  1.        ,  0.23469388],\n",
       "       [ 0.35051546,  0.38541667,  0.06315789,  0.53608247,  0.67346939],\n",
       "       [ 0.42268041,  0.        ,  0.8       ,  0.70103093,  0.68367347],\n",
       "       [ 0.60824742,  0.17708333,  0.50526316,  0.1443299 ,  0.2755102 ],\n",
       "       [ 0.15463918,  0.89583333,  0.45263158,  0.53608247,  0.15306122],\n",
       "       [ 0.70103093,  0.72916667,  0.85263158,  0.10309278,  0.62244898],\n",
       "       [ 0.96907216,  0.58333333,  0.21052632,  0.88659794,  0.85714286],\n",
       "       [ 0.24742268,  0.78125   ,  0.66315789,  0.55670103,  0.16326531],\n",
       "       [ 0.64948454,  0.58333333,  0.90526316,  0.02061856,  0.80612245],\n",
       "       [ 0.49484536,  0.67708333,  0.89473684,  0.81443299,  0.93877551],\n",
       "       [ 0.04123711,  0.94791667,  0.41052632,  0.22680412,  0.19387755],\n",
       "       [ 0.2371134 ,  1.        ,  0.53684211,  0.73195876,  0.7244898 ],\n",
       "       [ 0.80412371,  0.95833333,  0.64210526,  0.64948454,  0.80612245],\n",
       "       [ 0.37113402,  0.45833333,  0.33684211,  0.25773196,  0.95918367],\n",
       "       [ 0.75257732,  0.73958333,  0.08421053,  0.78350515,  0.79591837],\n",
       "       [ 0.49484536,  0.21875   ,  0.58947368,  0.68041237,  0.        ],\n",
       "       [ 0.32989691,  0.375     ,  0.56842105,  0.36082474,  0.41836735],\n",
       "       [ 0.43298969,  0.5       ,  0.29473684,  0.81443299,  0.85714286],\n",
       "       [ 0.01030928,  0.5625    ,  0.73684211,  0.95876289,  0.94897959],\n",
       "       [ 1.        ,  0.40625   ,  0.53684211,  0.90721649,  0.94897959],\n",
       "       [ 0.86597938,  0.16666667,  0.68421053,  0.17525773,  0.17346939],\n",
       "       [ 0.59793814,  0.85416667,  0.83157895,  0.07216495,  0.67346939],\n",
       "       [ 0.32989691,  0.78125   ,  0.95789474,  0.20618557,  0.69387755],\n",
       "       [ 0.73195876,  0.60416667,  0.32631579,  0.71134021,  0.24489796],\n",
       "       [ 0.78350515,  0.94791667,  0.74736842,  0.77319588,  0.32653061],\n",
       "       [ 0.07216495,  0.4375    ,  0.17894737,  0.84536082,  0.29591837],\n",
       "       [ 0.01030928,  0.46875   ,  0.27368421,  0.48453608,  0.26530612],\n",
       "       [ 0.81443299,  0.72916667,  0.23157895,  0.96907216,  0.57142857],\n",
       "       [ 0.19587629,  0.29166667,  0.03157895,  0.55670103,  0.46938776],\n",
       "       [ 0.46391753,  0.61458333,  0.03157895,  0.77319588,  0.97959184],\n",
       "       [ 0.5257732 ,  0.44791667,  1.        ,  0.40206186,  0.31632653],\n",
       "       [ 0.87628866,  0.80208333,  0.18947368,  0.92783505,  0.13265306],\n",
       "       [ 0.18556701,  0.        ,  0.70526316,  0.25773196,  0.44897959],\n",
       "       [ 0.96907216,  0.32291667,  0.29473684,  0.42268041,  0.79591837],\n",
       "       [ 0.87628866,  0.21875   ,  0.95789474,  0.4742268 ,  0.71428571],\n",
       "       [ 0.22680412,  0.41666667,  0.34736842,  0.31958763,  0.15306122],\n",
       "       [ 0.87628866,  0.21875   ,  0.97894737,  0.03092784,  0.1122449 ],\n",
       "       [ 0.71134021,  0.08333333,  0.88421053,  0.97938144,  0.3877551 ],\n",
       "       [ 0.63917526,  0.63541667,  0.89473684,  0.78350515,  0.93877551],\n",
       "       [ 0.83505155,  0.97916667,  0.68421053,  0.71134021,  0.59183673],\n",
       "       [ 0.51546392,  0.0625    ,  0.38947368,  0.75257732,  0.86734694],\n",
       "       [ 0.12371134,  0.5       ,  0.98947368,  0.25773196,  0.57142857],\n",
       "       [ 0.39175258,  0.16666667,  0.30526316,  0.8556701 ,  0.97959184],\n",
       "       [ 0.25773196,  0.47916667,  0.10526316,  0.72164948,  0.14285714],\n",
       "       [ 0.92783505,  0.17708333,  0.95789474,  0.49484536,  0.65306122],\n",
       "       [ 0.82474227,  0.34375   ,  0.02105263,  0.4742268 ,  0.83673469],\n",
       "       [ 0.25773196,  0.26041667,  0.17894737,  0.89690722,  0.84693878],\n",
       "       [ 0.15463918,  0.60416667,  0.64210526,  0.45360825,  0.03061224],\n",
       "       [ 0.50515464,  0.5       ,  0.74736842,  0.84536082,  0.36734694],\n",
       "       [ 0.5257732 ,  0.95833333,  0.73684211,  0.05154639,  0.36734694],\n",
       "       [ 0.55670103,  0.35416667,  0.12631579,  0.41237113,  0.41836735],\n",
       "       [ 0.71134021,  0.375     ,  0.45263158,  0.73195876,  0.91836735],\n",
       "       [ 0.97938144,  0.36458333,  0.42105263,  0.27835052,  0.66326531],\n",
       "       [ 0.56701031,  0.02083333,  0.54736842,  0.72164948,  0.40816327],\n",
       "       [ 0.67010309,  0.73958333,  0.89473684,  0.69072165,  0.75510204],\n",
       "       [ 0.69072165,  0.94791667,  0.17894737,  0.15463918,  0.57142857],\n",
       "       [ 0.07216495,  0.70833333,  0.98947368,  0.93814433,  0.51020408],\n",
       "       [ 0.53608247,  0.45833333,  0.36842105,  0.15463918,  0.41836735],\n",
       "       [ 0.60824742,  0.07291667,  0.        ,  0.90721649,  0.7244898 ],\n",
       "       [ 0.40206186,  0.23958333,  0.94736842,  0.28865979,  0.95918367],\n",
       "       [ 0.42268041,  0.48958333,  0.69473684,  0.43298969,  0.66326531],\n",
       "       [ 0.82474227,  0.67708333,  0.89473684,  0.80412371,  0.13265306],\n",
       "       [ 0.5257732 ,  0.46875   ,  0.11578947,  0.27835052,  0.68367347],\n",
       "       [ 0.19587629,  0.38541667,  0.41052632,  0.30927835,  0.8877551 ],\n",
       "       [ 0.79381443,  0.57291667,  0.65263158,  0.95876289,  0.36734694],\n",
       "       [ 0.87628866,  0.67708333,  0.13684211,  0.6185567 ,  0.24489796],\n",
       "       [ 1.        ,  0.30208333,  0.4       ,  0.74226804,  0.44897959],\n",
       "       [ 0.24742268,  0.89583333,  0.65263158,  0.6185567 ,  0.89795918],\n",
       "       [ 0.70103093,  0.33333333,  0.58947368,  0.28865979,  0.15306122],\n",
       "       [ 0.48453608,  0.97916667,  0.4       ,  0.11340206,  0.86734694]])"
      ]
     },
     "execution_count": 34,
     "metadata": {},
     "output_type": "execute_result"
    }
   ],
   "source": []
  },
  {
   "cell_type": "markdown",
   "metadata": {},
   "source": [
    "** Using your previously created DataFrame, use [df.columns = [...]](https://stackoverflow.com/questions/11346283/renaming-columns-in-pandas) to rename the pandas columns to be ['f1','f2','f3','f4','label']. Then perform a train/test split with scikitlearn.**"
   ]
  },
  {
   "cell_type": "code",
   "execution_count": 44,
   "metadata": {
    "collapsed": true
   },
   "outputs": [],
   "source": [
    "from sklearn.model_selection import train_test_split"
   ]
  },
  {
   "cell_type": "code",
   "execution_count": 45,
   "metadata": {
    "collapsed": true
   },
   "outputs": [],
   "source": [
    "df.columns = ['f1', 'f2', 'f3', 'f4', 'label']"
   ]
  },
  {
   "cell_type": "code",
   "execution_count": 46,
   "metadata": {
    "collapsed": false
   },
   "outputs": [
    {
     "data": {
      "text/html": [
       "<div>\n",
       "<style>\n",
       "    .dataframe thead tr:only-child th {\n",
       "        text-align: right;\n",
       "    }\n",
       "\n",
       "    .dataframe thead th {\n",
       "        text-align: left;\n",
       "    }\n",
       "\n",
       "    .dataframe tbody tr th {\n",
       "        vertical-align: top;\n",
       "    }\n",
       "</style>\n",
       "<table border=\"1\" class=\"dataframe\">\n",
       "  <thead>\n",
       "    <tr style=\"text-align: right;\">\n",
       "      <th></th>\n",
       "      <th>f1</th>\n",
       "      <th>f2</th>\n",
       "      <th>f3</th>\n",
       "      <th>f4</th>\n",
       "      <th>label</th>\n",
       "    </tr>\n",
       "  </thead>\n",
       "  <tbody>\n",
       "    <tr>\n",
       "      <th>0</th>\n",
       "      <td>11</td>\n",
       "      <td>86</td>\n",
       "      <td>15</td>\n",
       "      <td>95</td>\n",
       "      <td>91</td>\n",
       "    </tr>\n",
       "    <tr>\n",
       "      <th>1</th>\n",
       "      <td>19</td>\n",
       "      <td>69</td>\n",
       "      <td>1</td>\n",
       "      <td>77</td>\n",
       "      <td>63</td>\n",
       "    </tr>\n",
       "    <tr>\n",
       "      <th>2</th>\n",
       "      <td>87</td>\n",
       "      <td>28</td>\n",
       "      <td>70</td>\n",
       "      <td>5</td>\n",
       "      <td>3</td>\n",
       "    </tr>\n",
       "    <tr>\n",
       "      <th>3</th>\n",
       "      <td>12</td>\n",
       "      <td>62</td>\n",
       "      <td>26</td>\n",
       "      <td>96</td>\n",
       "      <td>61</td>\n",
       "    </tr>\n",
       "    <tr>\n",
       "      <th>4</th>\n",
       "      <td>87</td>\n",
       "      <td>74</td>\n",
       "      <td>99</td>\n",
       "      <td>97</td>\n",
       "      <td>64</td>\n",
       "    </tr>\n",
       "  </tbody>\n",
       "</table>\n",
       "</div>"
      ],
      "text/plain": [
       "   f1  f2  f3  f4  label\n",
       "0  11  86  15  95     91\n",
       "1  19  69   1  77     63\n",
       "2  87  28  70   5      3\n",
       "3  12  62  26  96     61\n",
       "4  87  74  99  97     64"
      ]
     },
     "execution_count": 46,
     "metadata": {},
     "output_type": "execute_result"
    }
   ],
   "source": [
    "df.head()"
   ]
  },
  {
   "cell_type": "code",
   "execution_count": 47,
   "metadata": {
    "collapsed": true
   },
   "outputs": [],
   "source": [
    "X = df[['f1', 'f2', 'f3', 'f4']]\n",
    "y = df['label']"
   ]
  },
  {
   "cell_type": "code",
   "execution_count": 49,
   "metadata": {
    "collapsed": true
   },
   "outputs": [],
   "source": [
    "X_train, X_test, y_train, y_test = train_test_split(X, y, test_size=0.3, random_state=42)"
   ]
  },
  {
   "cell_type": "code",
   "execution_count": 50,
   "metadata": {
    "collapsed": false
   },
   "outputs": [
    {
     "data": {
      "text/plain": [
       "(70, 4)"
      ]
     },
     "execution_count": 50,
     "metadata": {},
     "output_type": "execute_result"
    }
   ],
   "source": [
    "X_train.shape"
   ]
  },
  {
   "cell_type": "markdown",
   "metadata": {},
   "source": [
    "# Great Job!"
   ]
  }
 ],
 "metadata": {
  "anaconda-cloud": {},
  "kernelspec": {
   "display_name": "Python [conda root]",
   "language": "python",
   "name": "conda-root-py"
  },
  "language_info": {
   "codemirror_mode": {
    "name": "ipython",
    "version": 3
   },
   "file_extension": ".py",
   "mimetype": "text/x-python",
   "name": "python",
   "nbconvert_exporter": "python",
   "pygments_lexer": "ipython3",
   "version": "3.5.2"
  }
 },
 "nbformat": 4,
 "nbformat_minor": 2
}
